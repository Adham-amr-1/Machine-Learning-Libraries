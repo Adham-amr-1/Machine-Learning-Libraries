{
 "cells": [
  {
   "cell_type": "markdown",
   "id": "bb4764d9",
   "metadata": {},
   "source": [
    "# Numpy for ZakaEgy.Fit\n"
   ]
  },
  {
   "cell_type": "code",
   "execution_count": 2,
   "id": "480ff33d",
   "metadata": {},
   "outputs": [
    {
     "data": {
      "text/plain": [
       "array([0, 1, 2, 3, 4])"
      ]
     },
     "execution_count": 2,
     "metadata": {},
     "output_type": "execute_result"
    }
   ],
   "source": [
    "import numpy as np ## Importing Numpy\n",
    "\n",
    "array1 = np.array([0, 1, 2, 3, 4]) # Creating array\n",
    "array1"
   ]
  },
  {
   "cell_type": "code",
   "execution_count": 3,
   "id": "eba0c8cf",
   "metadata": {},
   "outputs": [
    {
     "data": {
      "text/plain": [
       "(5,)"
      ]
     },
     "execution_count": 3,
     "metadata": {},
     "output_type": "execute_result"
    }
   ],
   "source": [
    "array1.shape # Array Shape"
   ]
  },
  {
   "cell_type": "code",
   "execution_count": 4,
   "id": "08b02b8b",
   "metadata": {},
   "outputs": [
    {
     "data": {
      "text/plain": [
       "array([0, 1, 2, 3, 4, 5, 6, 7, 8, 9])"
      ]
     },
     "execution_count": 4,
     "metadata": {},
     "output_type": "execute_result"
    }
   ],
   "source": [
    "array2 = np.arange(10) # Ranged array with step 1 by default\n",
    "array2"
   ]
  },
  {
   "cell_type": "code",
   "execution_count": 5,
   "id": "60119663",
   "metadata": {},
   "outputs": [
    {
     "data": {
      "text/plain": [
       "array([ 0,  2,  4,  6,  8, 10, 12, 14, 16, 18, 20, 22, 24, 26, 28])"
      ]
     },
     "execution_count": 5,
     "metadata": {},
     "output_type": "execute_result"
    }
   ],
   "source": [
    "np.arange(0,30,2) # Ranged array with step 2"
   ]
  },
  {
   "cell_type": "code",
   "execution_count": 6,
   "id": "d6845585",
   "metadata": {},
   "outputs": [
    {
     "data": {
      "text/plain": [
       "array([0., 0., 0., 0., 0.])"
      ]
     },
     "execution_count": 6,
     "metadata": {},
     "output_type": "execute_result"
    }
   ],
   "source": [
    "np.zeros(5) # vector of zeros"
   ]
  },
  {
   "cell_type": "markdown",
   "id": "4993a286",
   "metadata": {},
   "source": [
    "#  Multiple Dimension array"
   ]
  },
  {
   "cell_type": "code",
   "execution_count": 7,
   "id": "bb75736a",
   "metadata": {},
   "outputs": [
    {
     "data": {
      "text/plain": [
       "array([[0., 0., 0., 0., 0.],\n",
       "       [0., 0., 0., 0., 0.],\n",
       "       [0., 0., 0., 0., 0.],\n",
       "       [0., 0., 0., 0., 0.],\n",
       "       [0., 0., 0., 0., 0.]])"
      ]
     },
     "execution_count": 7,
     "metadata": {},
     "output_type": "execute_result"
    }
   ],
   "source": [
    "np.zeros((5,5)) # 5 x 5 Zeros Vector"
   ]
  },
  {
   "cell_type": "code",
   "execution_count": 8,
   "id": "55c40d78",
   "metadata": {},
   "outputs": [
    {
     "data": {
      "text/plain": [
       "array([[1., 1., 1., 1., 1.],\n",
       "       [1., 1., 1., 1., 1.],\n",
       "       [1., 1., 1., 1., 1.],\n",
       "       [1., 1., 1., 1., 1.],\n",
       "       [1., 1., 1., 1., 1.]])"
      ]
     },
     "execution_count": 8,
     "metadata": {},
     "output_type": "execute_result"
    }
   ],
   "source": [
    "np.ones((5,5)) # 5 x 5 ones Vector"
   ]
  },
  {
   "cell_type": "code",
   "execution_count": 9,
   "id": "3151b5a0",
   "metadata": {},
   "outputs": [
    {
     "data": {
      "text/plain": [
       "array([[6, 6, 6, 6, 6],\n",
       "       [6, 6, 6, 6, 6],\n",
       "       [6, 6, 6, 6, 6],\n",
       "       [6, 6, 6, 6, 6],\n",
       "       [6, 6, 6, 6, 6]])"
      ]
     },
     "execution_count": 9,
     "metadata": {},
     "output_type": "execute_result"
    }
   ],
   "source": [
    "np.full((5,5),6) #Full Vector of number 6 with dimension 10 x 1"
   ]
  },
  {
   "cell_type": "code",
   "execution_count": 10,
   "id": "b24fcef8",
   "metadata": {},
   "outputs": [
    {
     "data": {
      "text/plain": [
       "array([[6, 6, 6, 6, 6, 6, 6, 6, 6, 6],\n",
       "       [6, 6, 6, 6, 6, 6, 6, 6, 6, 6],\n",
       "       [6, 6, 6, 6, 6, 6, 6, 6, 6, 6],\n",
       "       [6, 6, 6, 6, 6, 6, 6, 6, 6, 6],\n",
       "       [6, 6, 6, 6, 6, 6, 6, 6, 6, 6],\n",
       "       [6, 6, 6, 6, 6, 6, 6, 6, 6, 6],\n",
       "       [6, 6, 6, 6, 6, 6, 6, 6, 6, 6],\n",
       "       [6, 6, 6, 6, 6, 6, 6, 6, 6, 6],\n",
       "       [6, 6, 6, 6, 6, 6, 6, 6, 6, 6],\n",
       "       [6, 6, 6, 6, 6, 6, 6, 6, 6, 6]])"
      ]
     },
     "execution_count": 10,
     "metadata": {},
     "output_type": "execute_result"
    }
   ],
   "source": [
    "np.full((10,10),6) #Full Vector of number 6 with dimension 10 x 10"
   ]
  },
  {
   "cell_type": "markdown",
   "id": "700d786c",
   "metadata": {},
   "source": [
    "## Converting List to numpy"
   ]
  },
  {
   "cell_type": "code",
   "execution_count": 11,
   "id": "aab800ff",
   "metadata": {},
   "outputs": [
    {
     "data": {
      "text/plain": [
       "array([1, 2, 3, 4, 5, 6, 7])"
      ]
     },
     "execution_count": 11,
     "metadata": {},
     "output_type": "execute_result"
    }
   ],
   "source": [
    "example = [1,2,3,4,5,6,7]\n",
    "np.array(example)"
   ]
  },
  {
   "cell_type": "markdown",
   "id": "66fc0cbd",
   "metadata": {},
   "source": [
    "# # Accessing element in numpy"
   ]
  },
  {
   "cell_type": "code",
   "execution_count": 12,
   "id": "b0617a7f",
   "metadata": {},
   "outputs": [
    {
     "data": {
      "text/plain": [
       "6"
      ]
     },
     "execution_count": 12,
     "metadata": {},
     "output_type": "execute_result"
    }
   ],
   "source": [
    "np2 = np.array(example)\n",
    "np2[5]"
   ]
  },
  {
   "cell_type": "markdown",
   "id": "ca4f3a0e",
   "metadata": {},
   "source": [
    "# Slicing Numpy"
   ]
  },
  {
   "cell_type": "code",
   "execution_count": 13,
   "id": "766d5efa",
   "metadata": {},
   "outputs": [
    {
     "data": {
      "text/plain": [
       "array([2, 3, 4, 5])"
      ]
     },
     "execution_count": 13,
     "metadata": {},
     "output_type": "execute_result"
    }
   ],
   "source": [
    "np2[1:5] # Without Steps"
   ]
  },
  {
   "cell_type": "code",
   "execution_count": 14,
   "id": "ff20cb04",
   "metadata": {},
   "outputs": [
    {
     "data": {
      "text/plain": [
       "array([2, 4, 6])"
      ]
     },
     "execution_count": 14,
     "metadata": {},
     "output_type": "execute_result"
    }
   ],
   "source": [
    "np2[1:6:2] # With Step 2"
   ]
  },
  {
   "cell_type": "code",
   "execution_count": 15,
   "id": "b7e49a64",
   "metadata": {},
   "outputs": [
    {
     "data": {
      "text/plain": [
       "array([3, 4, 5, 6, 7])"
      ]
     },
     "execution_count": 15,
     "metadata": {},
     "output_type": "execute_result"
    }
   ],
   "source": [
    "np2[2:] # Slice from element 3 to end"
   ]
  },
  {
   "cell_type": "code",
   "execution_count": 16,
   "id": "54c9c892",
   "metadata": {},
   "outputs": [
    {
     "data": {
      "text/plain": [
       "array([3, 4, 5, 6])"
      ]
     },
     "execution_count": 16,
     "metadata": {},
     "output_type": "execute_result"
    }
   ],
   "source": [
    "np2[-5:-1] # Slicing from last "
   ]
  },
  {
   "cell_type": "code",
   "execution_count": 17,
   "id": "1d9dd0af",
   "metadata": {},
   "outputs": [
    {
     "data": {
      "text/plain": [
       "array([1, 3, 5, 7])"
      ]
     },
     "execution_count": 17,
     "metadata": {},
     "output_type": "execute_result"
    }
   ],
   "source": [
    "np2[::2] # From start to end with step 2"
   ]
  },
  {
   "cell_type": "markdown",
   "id": "4682bcbe",
   "metadata": {},
   "source": [
    "## 2D Slicing"
   ]
  },
  {
   "cell_type": "code",
   "execution_count": 18,
   "id": "18c72834",
   "metadata": {},
   "outputs": [
    {
     "data": {
      "text/plain": [
       "array([[ 1,  2,  3,  4,  5,  6,  7],\n",
       "       [ 8,  9, 10, 11, 12, 13, 14]])"
      ]
     },
     "execution_count": 18,
     "metadata": {},
     "output_type": "execute_result"
    }
   ],
   "source": [
    "example2 = [8,9,10,11,12,13,14]\n",
    "np3 = np.array([example,example2])\n",
    "np3"
   ]
  },
  {
   "cell_type": "code",
   "execution_count": 19,
   "id": "c6cf4eb0",
   "metadata": {},
   "outputs": [
    {
     "data": {
      "text/plain": [
       "array([[ 3,  4,  5],\n",
       "       [10, 11, 12]])"
      ]
     },
     "execution_count": 19,
     "metadata": {},
     "output_type": "execute_result"
    }
   ],
   "source": [
    "np3[:,2:5] ## [row,column] slicing as 1D but with 2D"
   ]
  },
  {
   "cell_type": "code",
   "execution_count": 20,
   "id": "2b610231",
   "metadata": {},
   "outputs": [
    {
     "data": {
      "text/plain": [
       "(2, 7)"
      ]
     },
     "execution_count": 20,
     "metadata": {},
     "output_type": "execute_result"
    }
   ],
   "source": [
    "np3.shape ## matrix of 2 x 7 "
   ]
  },
  {
   "cell_type": "markdown",
   "id": "c7645ec1",
   "metadata": {},
   "source": [
    "## Universal Function of Numpy"
   ]
  },
  {
   "cell_type": "code",
   "execution_count": 21,
   "id": "105dd522",
   "metadata": {},
   "outputs": [
    {
     "data": {
      "text/plain": [
       "array([1.        , 1.41421356, 1.73205081, 2.        , 2.23606798,\n",
       "       2.44948974, 2.64575131])"
      ]
     },
     "execution_count": 21,
     "metadata": {},
     "output_type": "execute_result"
    }
   ],
   "source": [
    "np.sqrt(np2) ## Return Square root of each element"
   ]
  },
  {
   "cell_type": "code",
   "execution_count": 22,
   "id": "09399564",
   "metadata": {},
   "outputs": [
    {
     "data": {
      "text/plain": [
       "array([-1, -3, -5,  9,  5,  6, -7])"
      ]
     },
     "execution_count": 22,
     "metadata": {},
     "output_type": "execute_result"
    }
   ],
   "source": [
    "np4 = np.array([-1,-3,-5,9,5,6,-7])\n",
    "np4"
   ]
  },
  {
   "cell_type": "code",
   "execution_count": 23,
   "id": "99b7475a",
   "metadata": {},
   "outputs": [
    {
     "data": {
      "text/plain": [
       "array([1, 3, 5, 9, 5, 6, 7])"
      ]
     },
     "execution_count": 23,
     "metadata": {},
     "output_type": "execute_result"
    }
   ],
   "source": [
    "np.absolute(np4) ## Return the absolute of number ( -ve --> ve )"
   ]
  },
  {
   "cell_type": "code",
   "execution_count": 24,
   "id": "7d6c072e",
   "metadata": {},
   "outputs": [
    {
     "data": {
      "text/plain": [
       "array([3.67879441e-01, 4.97870684e-02, 6.73794700e-03, 8.10308393e+03,\n",
       "       1.48413159e+02, 4.03428793e+02, 9.11881966e-04])"
      ]
     },
     "execution_count": 24,
     "metadata": {},
     "output_type": "execute_result"
    }
   ],
   "source": [
    "np.exp(np4) ## e^(each element of List)"
   ]
  },
  {
   "cell_type": "code",
   "execution_count": 25,
   "id": "a592a48b",
   "metadata": {},
   "outputs": [
    {
     "data": {
      "text/plain": [
       "9"
      ]
     },
     "execution_count": 25,
     "metadata": {},
     "output_type": "execute_result"
    }
   ],
   "source": [
    "np.max(np4) ## Return Maximum of list"
   ]
  },
  {
   "cell_type": "code",
   "execution_count": 26,
   "id": "4c0086ed",
   "metadata": {},
   "outputs": [
    {
     "data": {
      "text/plain": [
       "-7"
      ]
     },
     "execution_count": 26,
     "metadata": {},
     "output_type": "execute_result"
    }
   ],
   "source": [
    "np.min(np4) ## Return Minimum of list"
   ]
  },
  {
   "cell_type": "code",
   "execution_count": 27,
   "id": "27be2422",
   "metadata": {},
   "outputs": [
    {
     "data": {
      "text/plain": [
       "array([-1, -1, -1,  1,  1,  1, -1])"
      ]
     },
     "execution_count": 27,
     "metadata": {},
     "output_type": "execute_result"
    }
   ],
   "source": [
    "np.sign(np4) ## Return the sign of each ( -1 --> -ve , 1 --> +ve )"
   ]
  },
  {
   "cell_type": "code",
   "execution_count": 28,
   "id": "228eb804",
   "metadata": {},
   "outputs": [
    {
     "data": {
      "text/plain": [
       "array([-0.84147098, -0.14112001,  0.95892427,  0.41211849, -0.95892427,\n",
       "       -0.2794155 , -0.6569866 ])"
      ]
     },
     "execution_count": 28,
     "metadata": {},
     "output_type": "execute_result"
    }
   ],
   "source": [
    "np.sin(np4) ## sin(Each element of list)"
   ]
  },
  {
   "cell_type": "code",
   "execution_count": 29,
   "id": "9dbdbd9d",
   "metadata": {},
   "outputs": [
    {
     "data": {
      "text/plain": [
       "array([ 0.54030231, -0.9899925 ,  0.28366219, -0.91113026,  0.28366219,\n",
       "        0.96017029,  0.75390225])"
      ]
     },
     "execution_count": 29,
     "metadata": {},
     "output_type": "execute_result"
    }
   ],
   "source": [
    "np.cos(np4) ## cos(Each element of list)"
   ]
  },
  {
   "cell_type": "code",
   "execution_count": 30,
   "id": "0ec1f396",
   "metadata": {},
   "outputs": [
    {
     "data": {
      "text/plain": [
       "array([-1.55740772,  0.14254654,  3.38051501, -0.45231566, -3.38051501,\n",
       "       -0.29100619, -0.87144798])"
      ]
     },
     "execution_count": 30,
     "metadata": {},
     "output_type": "execute_result"
    }
   ],
   "source": [
    "np.tan(np4) ## tan(Each element of list)"
   ]
  },
  {
   "cell_type": "code",
   "execution_count": 31,
   "id": "a40cd6d1",
   "metadata": {},
   "outputs": [
    {
     "data": {
      "text/plain": [
       "array([0.        , 0.69314718, 1.09861229, 1.38629436, 1.60943791,\n",
       "       1.79175947, 1.94591015])"
      ]
     },
     "execution_count": 31,
     "metadata": {},
     "output_type": "execute_result"
    }
   ],
   "source": [
    "np.log(np2) ## Return the log of element ( if -ve value return nan, if zero return inf ( Infinity ))"
   ]
  },
  {
   "cell_type": "markdown",
   "id": "7a7e0f48",
   "metadata": {},
   "source": [
    "## Copy vs View "
   ]
  },
  {
   "cell_type": "code",
   "execution_count": 32,
   "id": "09b13adc",
   "metadata": {},
   "outputs": [
    {
     "data": {
      "text/plain": [
       "array([-1, -3, -5,  9,  5, 10, -7])"
      ]
     },
     "execution_count": 32,
     "metadata": {},
     "output_type": "execute_result"
    }
   ],
   "source": [
    "np5 = np4.view() # Copy the array and still connected to the original array\n",
    "np5[5] = 10 ## Affect on the copied and the original array\n",
    "np5"
   ]
  },
  {
   "cell_type": "code",
   "execution_count": 33,
   "id": "1d41b4d7",
   "metadata": {},
   "outputs": [
    {
     "data": {
      "text/plain": [
       "array([-1, -3, -5,  9,  5, 10, -7])"
      ]
     },
     "execution_count": 33,
     "metadata": {},
     "output_type": "execute_result"
    }
   ],
   "source": [
    "np4"
   ]
  },
  {
   "cell_type": "code",
   "execution_count": 34,
   "id": "43af22bf",
   "metadata": {},
   "outputs": [
    {
     "data": {
      "text/plain": [
       "array([-1, -3, -5,  9,  5, 50, -7])"
      ]
     },
     "execution_count": 34,
     "metadata": {},
     "output_type": "execute_result"
    }
   ],
   "source": [
    "np6 = np4.copy() # copy the array in another array withot affecting on the original one\n",
    "np6[5] = 50  ## Does not Affect on the original array\n",
    "np6"
   ]
  },
  {
   "cell_type": "code",
   "execution_count": 35,
   "id": "16d7b678",
   "metadata": {},
   "outputs": [
    {
     "data": {
      "text/plain": [
       "array([-1, -3, -5,  9,  5, 10, -7])"
      ]
     },
     "execution_count": 35,
     "metadata": {},
     "output_type": "execute_result"
    }
   ],
   "source": [
    "np4"
   ]
  },
  {
   "cell_type": "markdown",
   "id": "468c8811",
   "metadata": {},
   "source": [
    "## Shape & Reshape\n"
   ]
  },
  {
   "cell_type": "code",
   "execution_count": 36,
   "id": "74615702",
   "metadata": {},
   "outputs": [
    {
     "data": {
      "text/plain": [
       "array([0, 1, 2, 3, 4, 5, 6, 7, 8, 9])"
      ]
     },
     "execution_count": 36,
     "metadata": {},
     "output_type": "execute_result"
    }
   ],
   "source": [
    "np2 = np.array([0, 1, 2, 3, 4, 5, 6, 7, 8, 9]) ## Will be used\n",
    "np2"
   ]
  },
  {
   "cell_type": "code",
   "execution_count": 37,
   "id": "36466bc6",
   "metadata": {},
   "outputs": [
    {
     "data": {
      "text/plain": [
       "array([[ 1,  2,  3,  4,  5,  6],\n",
       "       [ 7,  8,  9, 10, 11, 12]])"
      ]
     },
     "execution_count": 37,
     "metadata": {},
     "output_type": "execute_result"
    }
   ],
   "source": [
    "np3 = np.array([[ 1,  2,  3,  4,  5,  6],\n",
    "             [ 7,  8, 9, 10, 11, 12]]) ## Will be used\n",
    "np3"
   ]
  },
  {
   "cell_type": "code",
   "execution_count": 38,
   "id": "b307b10c",
   "metadata": {},
   "outputs": [
    {
     "data": {
      "text/plain": [
       "(10,)"
      ]
     },
     "execution_count": 38,
     "metadata": {},
     "output_type": "execute_result"
    }
   ],
   "source": [
    "np2.shape # Get Shape"
   ]
  },
  {
   "cell_type": "code",
   "execution_count": 39,
   "id": "44e1b3be",
   "metadata": {},
   "outputs": [
    {
     "data": {
      "text/plain": [
       "(2, 6)"
      ]
     },
     "execution_count": 39,
     "metadata": {},
     "output_type": "execute_result"
    }
   ],
   "source": [
    "np3.shape # Get Shape"
   ]
  },
  {
   "cell_type": "code",
   "execution_count": 40,
   "id": "36d3b273",
   "metadata": {},
   "outputs": [
    {
     "data": {
      "text/plain": [
       "array([[0, 1, 2, 3, 4],\n",
       "       [5, 6, 7, 8, 9]])"
      ]
     },
     "execution_count": 40,
     "metadata": {},
     "output_type": "execute_result"
    }
   ],
   "source": [
    "## Reshape 1D Array\n",
    "np2.reshape(2,5)  # reshape(row,col)  --> row x col of the new shape == row x col of the old shape"
   ]
  },
  {
   "cell_type": "code",
   "execution_count": 41,
   "id": "539cb74a",
   "metadata": {},
   "outputs": [
    {
     "data": {
      "text/plain": [
       "array([[[ 1,  2,  3],\n",
       "        [ 4,  5,  6]],\n",
       "\n",
       "       [[ 7,  8,  9],\n",
       "        [10, 11, 12]]])"
      ]
     },
     "execution_count": 41,
     "metadata": {},
     "output_type": "execute_result"
    }
   ],
   "source": [
    "np3.reshape(2,2,3)"
   ]
  },
  {
   "cell_type": "code",
   "execution_count": 42,
   "id": "4b218d7e",
   "metadata": {},
   "outputs": [
    {
     "data": {
      "text/plain": [
       "array([ 1,  2,  3,  4,  5,  6,  7,  8,  9, 10, 11, 12])"
      ]
     },
     "execution_count": 42,
     "metadata": {},
     "output_type": "execute_result"
    }
   ],
   "source": [
    "np3.reshape(-1) ## Flat the 2D to 1D"
   ]
  },
  {
   "cell_type": "markdown",
   "id": "1fe2f17a",
   "metadata": {},
   "source": [
    "## Iteration using numpy"
   ]
  },
  {
   "cell_type": "code",
   "execution_count": 43,
   "id": "8bea170d",
   "metadata": {},
   "outputs": [
    {
     "name": "stdout",
     "output_type": "stream",
     "text": [
      "0\n",
      "1\n",
      "2\n",
      "3\n",
      "4\n",
      "5\n",
      "6\n",
      "7\n",
      "8\n",
      "9\n"
     ]
    }
   ],
   "source": [
    "for x in np2:\n",
    "    print(x)"
   ]
  },
  {
   "cell_type": "code",
   "execution_count": 44,
   "id": "a0c06682",
   "metadata": {},
   "outputs": [
    {
     "name": "stdout",
     "output_type": "stream",
     "text": [
      "1\n",
      "2\n",
      "3\n",
      "4\n",
      "5\n",
      "6\n",
      "7\n",
      "8\n",
      "9\n",
      "10\n",
      "11\n",
      "12\n"
     ]
    }
   ],
   "source": [
    "for x in np3:\n",
    "    # print(x) --> print each row lonely\n",
    "    for y in x:\n",
    "        ## Print Individual element in 2D Array\n",
    "        print(y)  \n",
    "    "
   ]
  },
  {
   "cell_type": "code",
   "execution_count": 45,
   "id": "59d1526f",
   "metadata": {},
   "outputs": [
    {
     "data": {
      "text/plain": [
       "array([[[ 1,  2,  3],\n",
       "        [ 4,  5,  6]],\n",
       "\n",
       "       [[ 7,  8,  9],\n",
       "        [10, 11, 12]]])"
      ]
     },
     "execution_count": 45,
     "metadata": {},
     "output_type": "execute_result"
    }
   ],
   "source": [
    "np7 = np3.reshape(2,2,3)\n",
    "np7"
   ]
  },
  {
   "cell_type": "code",
   "execution_count": 46,
   "id": "a5e0ac17",
   "metadata": {},
   "outputs": [
    {
     "name": "stdout",
     "output_type": "stream",
     "text": [
      "1\n",
      "2\n",
      "3\n",
      "4\n",
      "5\n",
      "6\n",
      "7\n",
      "8\n",
      "9\n",
      "10\n",
      "11\n",
      "12\n"
     ]
    }
   ],
   "source": [
    "for x in np7:\n",
    "    ## print(x) \n",
    "    for y in x:\n",
    "        ## print(y)\n",
    "        for z in y:\n",
    "            print(z) ## Print Individual element in 3D Array"
   ]
  },
  {
   "cell_type": "code",
   "execution_count": 47,
   "id": "53341d1f",
   "metadata": {},
   "outputs": [
    {
     "name": "stdout",
     "output_type": "stream",
     "text": [
      "1\n",
      "2\n",
      "3\n",
      "4\n",
      "5\n",
      "6\n",
      "7\n",
      "8\n",
      "9\n",
      "10\n",
      "11\n",
      "12\n"
     ]
    }
   ],
   "source": [
    "for x in np.nditer(np3):\n",
    "    print(x) # print Individual element in n-D Array ( instead of using many loops )"
   ]
  },
  {
   "cell_type": "markdown",
   "id": "fb21b449",
   "metadata": {},
   "source": [
    "## Sorting"
   ]
  },
  {
   "cell_type": "code",
   "execution_count": 48,
   "id": "cf5a2650",
   "metadata": {},
   "outputs": [
    {
     "data": {
      "text/plain": [
       "array([ -9,   8,   7,   0,  25,   3,   6,  98, -11, -99,   3,  20,   3])"
      ]
     },
     "execution_count": 48,
     "metadata": {},
     "output_type": "execute_result"
    }
   ],
   "source": [
    "np9 = np.array([-9,8,7,0,25,3,6,98,-11,-99,3,20,3])\n",
    "np9"
   ]
  },
  {
   "cell_type": "code",
   "execution_count": 49,
   "id": "f7552b8f",
   "metadata": {},
   "outputs": [
    {
     "data": {
      "text/plain": [
       "array([-99, -11,  -9,   0,   3,   3,   3,   6,   7,   8,  20,  25,  98])"
      ]
     },
     "execution_count": 49,
     "metadata": {},
     "output_type": "execute_result"
    }
   ],
   "source": [
    "np.sort(np9,axis = 0) "
   ]
  },
  {
   "cell_type": "code",
   "execution_count": 50,
   "id": "9fd3b004",
   "metadata": {},
   "outputs": [],
   "source": [
    "from numpy import doc"
   ]
  },
  {
   "cell_type": "code",
   "execution_count": 51,
   "id": "f2a62192",
   "metadata": {},
   "outputs": [
    {
     "name": "stdout",
     "output_type": "stream",
     "text": [
      "Help on function sort in module numpy:\n",
      "\n",
      "sort(a, axis=-1, kind=None, order=None)\n",
      "    Return a sorted copy of an array.\n",
      "    \n",
      "    Parameters\n",
      "    ----------\n",
      "    a : array_like\n",
      "        Array to be sorted.\n",
      "    axis : int or None, optional\n",
      "        Axis along which to sort. If None, the array is flattened before\n",
      "        sorting. The default is -1, which sorts along the last axis.\n",
      "    kind : {'quicksort', 'mergesort', 'heapsort', 'stable'}, optional\n",
      "        Sorting algorithm. The default is 'quicksort'. Note that both 'stable'\n",
      "        and 'mergesort' use timsort or radix sort under the covers and, in general,\n",
      "        the actual implementation will vary with data type. The 'mergesort' option\n",
      "        is retained for backwards compatibility.\n",
      "    \n",
      "        .. versionchanged:: 1.15.0.\n",
      "           The 'stable' option was added.\n",
      "    \n",
      "    order : str or list of str, optional\n",
      "        When `a` is an array with fields defined, this argument specifies\n",
      "        which fields to compare first, second, etc.  A single field can\n",
      "        be specified as a string, and not all fields need be specified,\n",
      "        but unspecified fields will still be used, in the order in which\n",
      "        they come up in the dtype, to break ties.\n",
      "    \n",
      "    Returns\n",
      "    -------\n",
      "    sorted_array : ndarray\n",
      "        Array of the same type and shape as `a`.\n",
      "    \n",
      "    See Also\n",
      "    --------\n",
      "    ndarray.sort : Method to sort an array in-place.\n",
      "    argsort : Indirect sort.\n",
      "    lexsort : Indirect stable sort on multiple keys.\n",
      "    searchsorted : Find elements in a sorted array.\n",
      "    partition : Partial sort.\n",
      "    \n",
      "    Notes\n",
      "    -----\n",
      "    The various sorting algorithms are characterized by their average speed,\n",
      "    worst case performance, work space size, and whether they are stable. A\n",
      "    stable sort keeps items with the same key in the same relative\n",
      "    order. The four algorithms implemented in NumPy have the following\n",
      "    properties:\n",
      "    \n",
      "    =========== ======= ============= ============ ========\n",
      "       kind      speed   worst case    work space   stable\n",
      "    =========== ======= ============= ============ ========\n",
      "    'quicksort'    1     O(n^2)            0          no\n",
      "    'heapsort'     3     O(n*log(n))       0          no\n",
      "    'mergesort'    2     O(n*log(n))      ~n/2        yes\n",
      "    'timsort'      2     O(n*log(n))      ~n/2        yes\n",
      "    =========== ======= ============= ============ ========\n",
      "    \n",
      "    .. note:: The datatype determines which of 'mergesort' or 'timsort'\n",
      "       is actually used, even if 'mergesort' is specified. User selection\n",
      "       at a finer scale is not currently available.\n",
      "    \n",
      "    All the sort algorithms make temporary copies of the data when\n",
      "    sorting along any but the last axis.  Consequently, sorting along\n",
      "    the last axis is faster and uses less space than sorting along\n",
      "    any other axis.\n",
      "    \n",
      "    The sort order for complex numbers is lexicographic. If both the real\n",
      "    and imaginary parts are non-nan then the order is determined by the\n",
      "    real parts except when they are equal, in which case the order is\n",
      "    determined by the imaginary parts.\n",
      "    \n",
      "    Previous to numpy 1.4.0 sorting real and complex arrays containing nan\n",
      "    values led to undefined behaviour. In numpy versions >= 1.4.0 nan\n",
      "    values are sorted to the end. The extended sort order is:\n",
      "    \n",
      "      * Real: [R, nan]\n",
      "      * Complex: [R + Rj, R + nanj, nan + Rj, nan + nanj]\n",
      "    \n",
      "    where R is a non-nan real value. Complex values with the same nan\n",
      "    placements are sorted according to the non-nan part if it exists.\n",
      "    Non-nan values are sorted as before.\n",
      "    \n",
      "    .. versionadded:: 1.12.0\n",
      "    \n",
      "    quicksort has been changed to `introsort <https://en.wikipedia.org/wiki/Introsort>`_.\n",
      "    When sorting does not make enough progress it switches to\n",
      "    `heapsort <https://en.wikipedia.org/wiki/Heapsort>`_.\n",
      "    This implementation makes quicksort O(n*log(n)) in the worst case.\n",
      "    \n",
      "    'stable' automatically chooses the best stable sorting algorithm\n",
      "    for the data type being sorted.\n",
      "    It, along with 'mergesort' is currently mapped to\n",
      "    `timsort <https://en.wikipedia.org/wiki/Timsort>`_\n",
      "    or `radix sort <https://en.wikipedia.org/wiki/Radix_sort>`_\n",
      "    depending on the data type.\n",
      "    API forward compatibility currently limits the\n",
      "    ability to select the implementation and it is hardwired for the different\n",
      "    data types.\n",
      "    \n",
      "    .. versionadded:: 1.17.0\n",
      "    \n",
      "    Timsort is added for better performance on already or nearly\n",
      "    sorted data. On random data timsort is almost identical to\n",
      "    mergesort. It is now used for stable sort while quicksort is still the\n",
      "    default sort if none is chosen. For timsort details, refer to\n",
      "    `CPython listsort.txt <https://github.com/python/cpython/blob/3.7/Objects/listsort.txt>`_.\n",
      "    'mergesort' and 'stable' are mapped to radix sort for integer data types. Radix sort is an\n",
      "    O(n) sort instead of O(n log n).\n",
      "    \n",
      "    .. versionchanged:: 1.18.0\n",
      "    \n",
      "    NaT now sorts to the end of arrays for consistency with NaN.\n",
      "    \n",
      "    Examples\n",
      "    --------\n",
      "    >>> a = np.array([[1,4],[3,1]])\n",
      "    >>> np.sort(a)                # sort along the last axis\n",
      "    array([[1, 4],\n",
      "           [1, 3]])\n",
      "    >>> np.sort(a, axis=None)     # sort the flattened array\n",
      "    array([1, 1, 3, 4])\n",
      "    >>> np.sort(a, axis=0)        # sort along the first axis\n",
      "    array([[1, 1],\n",
      "           [3, 4]])\n",
      "    \n",
      "    Use the `order` keyword to specify a field to use when sorting a\n",
      "    structured array:\n",
      "    \n",
      "    >>> dtype = [('name', 'S10'), ('height', float), ('age', int)]\n",
      "    >>> values = [('Arthur', 1.8, 41), ('Lancelot', 1.9, 38),\n",
      "    ...           ('Galahad', 1.7, 38)]\n",
      "    >>> a = np.array(values, dtype=dtype)       # create a structured array\n",
      "    >>> np.sort(a, order='height')                        # doctest: +SKIP\n",
      "    array([('Galahad', 1.7, 38), ('Arthur', 1.8, 41),\n",
      "           ('Lancelot', 1.8999999999999999, 38)],\n",
      "          dtype=[('name', '|S10'), ('height', '<f8'), ('age', '<i4')])\n",
      "    \n",
      "    Sort by age, then height if ages are equal:\n",
      "    \n",
      "    >>> np.sort(a, order=['age', 'height'])               # doctest: +SKIP\n",
      "    array([('Galahad', 1.7, 38), ('Lancelot', 1.8999999999999999, 38),\n",
      "           ('Arthur', 1.8, 41)],\n",
      "          dtype=[('name', '|S10'), ('height', '<f8'), ('age', '<i4')])\n",
      "\n"
     ]
    }
   ],
   "source": [
    "help(np.sort) # Retrun more details about the needed function such as sort as shown"
   ]
  },
  {
   "cell_type": "markdown",
   "id": "2d4fc1e2",
   "metadata": {},
   "source": [
    "## Search"
   ]
  },
  {
   "cell_type": "code",
   "execution_count": 52,
   "id": "e2dd6171",
   "metadata": {},
   "outputs": [
    {
     "data": {
      "text/plain": [
       "(array([ 5, 10, 12], dtype=int64),)"
      ]
     },
     "execution_count": 52,
     "metadata": {},
     "output_type": "execute_result"
    }
   ],
   "source": [
    "np.where(np9 == 3) # return the index of the needed number where i put to search ( np.where(array == needed number)) "
   ]
  },
  {
   "cell_type": "code",
   "execution_count": 53,
   "id": "f932eccc",
   "metadata": {},
   "outputs": [
    {
     "data": {
      "text/plain": [
       "array([3, 3, 3])"
      ]
     },
     "execution_count": 53,
     "metadata": {},
     "output_type": "execute_result"
    }
   ],
   "source": [
    "np9[np.where(np9 == 3)]"
   ]
  },
  {
   "cell_type": "code",
   "execution_count": 54,
   "id": "4314e658",
   "metadata": {},
   "outputs": [
    {
     "data": {
      "text/plain": [
       "(array([ 1,  3,  6,  7, 11], dtype=int64),)"
      ]
     },
     "execution_count": 54,
     "metadata": {},
     "output_type": "execute_result"
    }
   ],
   "source": [
    "np.where(np9 % 2 == 0) # Return the even number index"
   ]
  },
  {
   "cell_type": "code",
   "execution_count": 55,
   "id": "f984cea8",
   "metadata": {},
   "outputs": [
    {
     "data": {
      "text/plain": [
       "array([ 8,  0,  6, 98, 20])"
      ]
     },
     "execution_count": 55,
     "metadata": {},
     "output_type": "execute_result"
    }
   ],
   "source": [
    "np9[np.where(np9 % 2 == 0)] # Return the even number "
   ]
  },
  {
   "cell_type": "markdown",
   "id": "2b7cbad8",
   "metadata": {},
   "source": [
    "## Filtering Array"
   ]
  },
  {
   "cell_type": "code",
   "execution_count": 56,
   "id": "1cfa2029",
   "metadata": {},
   "outputs": [
    {
     "data": {
      "text/plain": [
       "array([ -9,   8,   7,   0,  25,   3,   6,  98, -11, -99,   3,  20,   3])"
      ]
     },
     "execution_count": 56,
     "metadata": {},
     "output_type": "execute_result"
    }
   ],
   "source": [
    "np9"
   ]
  },
  {
   "cell_type": "code",
   "execution_count": 57,
   "id": "a9b6e71c",
   "metadata": {},
   "outputs": [
    {
     "data": {
      "text/plain": [
       "array([False,  True, False,  True, False, False,  True,  True, False,\n",
       "       False, False,  True, False])"
      ]
     },
     "execution_count": 57,
     "metadata": {},
     "output_type": "execute_result"
    }
   ],
   "source": [
    "filtered = []\n",
    "for thing in np9:\n",
    "    if thing % 2 == 0:\n",
    "        filtered.append(True)\n",
    "    else:\n",
    "        filtered.append(False)\n",
    "np.array(filtered) # Filter the Array depending on the condition "
   ]
  },
  {
   "cell_type": "code",
   "execution_count": 58,
   "id": "922d921e",
   "metadata": {},
   "outputs": [
    {
     "data": {
      "text/plain": [
       "array([False,  True, False,  True, False, False,  True,  True, False,\n",
       "       False, False,  True, False])"
      ]
     },
     "execution_count": 58,
     "metadata": {},
     "output_type": "execute_result"
    }
   ],
   "source": [
    "# Easy way to filter using Numpy\n",
    "\n",
    "filtered = np9 % 2 == 0\n",
    "filtered"
   ]
  },
  {
   "cell_type": "markdown",
   "id": "4027d487",
   "metadata": {},
   "source": [
    "# More Topics From Kaggle NoteBook"
   ]
  },
  {
   "cell_type": "markdown",
   "id": "2fea6be6",
   "metadata": {},
   "source": [
    "### Deal With file"
   ]
  },
  {
   "cell_type": "code",
   "execution_count": 59,
   "id": "c8c11fc4",
   "metadata": {},
   "outputs": [],
   "source": [
    "np.save(\"Test\",np9) ## Save Data in File"
   ]
  },
  {
   "cell_type": "code",
   "execution_count": 60,
   "id": "4e55bd35",
   "metadata": {},
   "outputs": [
    {
     "data": {
      "text/plain": [
       "array([ -9,   8,   7,   0,  25,   3,   6,  98, -11, -99,   3,  20,   3])"
      ]
     },
     "execution_count": 60,
     "metadata": {},
     "output_type": "execute_result"
    }
   ],
   "source": [
    "np.load('Test.npy') ## Load Data from File"
   ]
  },
  {
   "cell_type": "markdown",
   "id": "75cc9401",
   "metadata": {},
   "source": [
    "## More Topics"
   ]
  },
  {
   "cell_type": "code",
   "execution_count": 61,
   "id": "4f43dced",
   "metadata": {},
   "outputs": [
    {
     "data": {
      "text/plain": [
       "array([[10,  0,  0,  0,  0],\n",
       "       [ 0, 20,  0,  0,  0],\n",
       "       [ 0,  0, 30,  0,  0],\n",
       "       [ 0,  0,  0, 50,  0],\n",
       "       [ 0,  0,  0,  0, 60]])"
      ]
     },
     "execution_count": 61,
     "metadata": {},
     "output_type": "execute_result"
    }
   ],
   "source": [
    "# Diagonal Matrix\n",
    "# 5 x 5 diagonal matrix that contains the numbers 10,20,30, and 50 on its main diagonal\n",
    "np10 = np.diag([10,20,30,50,60]) ## N x N Matrix N == Number of element in diag\n",
    "np10"
   ]
  },
  {
   "cell_type": "code",
   "execution_count": 62,
   "id": "1ceb3d6f",
   "metadata": {},
   "outputs": [
    {
     "data": {
      "text/plain": [
       "array([ 0.  ,  6.25, 12.5 , 18.75, 25.  ])"
      ]
     },
     "execution_count": 62,
     "metadata": {},
     "output_type": "execute_result"
    }
   ],
   "source": [
    "np.linspace(0,25,5)"
   ]
  },
  {
   "cell_type": "code",
   "execution_count": 63,
   "id": "be9faac0",
   "metadata": {},
   "outputs": [
    {
     "data": {
      "text/plain": [
       "2"
      ]
     },
     "execution_count": 63,
     "metadata": {},
     "output_type": "execute_result"
    }
   ],
   "source": [
    "np10.ndim # Return the Dimension of Matrix ( 2D )"
   ]
  },
  {
   "cell_type": "code",
   "execution_count": 64,
   "id": "db42210e",
   "metadata": {},
   "outputs": [
    {
     "data": {
      "text/plain": [
       "dtype('int32')"
      ]
     },
     "execution_count": 64,
     "metadata": {},
     "output_type": "execute_result"
    }
   ],
   "source": [
    "np10.dtype # Return the DataType of Matrix "
   ]
  },
  {
   "cell_type": "code",
   "execution_count": 65,
   "id": "62b7079c",
   "metadata": {},
   "outputs": [
    {
     "data": {
      "text/plain": [
       "array([1, 2, 3, 4, 5], dtype=int16)"
      ]
     },
     "execution_count": 65,
     "metadata": {},
     "output_type": "execute_result"
    }
   ],
   "source": [
    "np.array([1,2,3,4,5], dtype = 'int16') ## to reduce the memory usage"
   ]
  },
  {
   "cell_type": "code",
   "execution_count": 66,
   "id": "1b2d5568",
   "metadata": {},
   "outputs": [
    {
     "data": {
      "text/plain": [
       "4"
      ]
     },
     "execution_count": 66,
     "metadata": {},
     "output_type": "execute_result"
    }
   ],
   "source": [
    "np10.itemsize # Return the size of an element in array"
   ]
  },
  {
   "cell_type": "code",
   "execution_count": 67,
   "id": "a3f1effb",
   "metadata": {},
   "outputs": [
    {
     "data": {
      "text/plain": [
       "25"
      ]
     },
     "execution_count": 67,
     "metadata": {},
     "output_type": "execute_result"
    }
   ],
   "source": [
    "np10.size # Return Number of elements"
   ]
  },
  {
   "cell_type": "code",
   "execution_count": 68,
   "id": "21e8220a",
   "metadata": {},
   "outputs": [
    {
     "data": {
      "text/plain": [
       "100"
      ]
     },
     "execution_count": 68,
     "metadata": {},
     "output_type": "execute_result"
    }
   ],
   "source": [
    "np10.nbytes # Return the used Bytes for all array"
   ]
  },
  {
   "cell_type": "code",
   "execution_count": 69,
   "id": "55affb2a",
   "metadata": {},
   "outputs": [
    {
     "data": {
      "text/plain": [
       "array([[10,  0,  0,  0,  0],\n",
       "       [ 0, 20,  0,  0,  0],\n",
       "       [ 0,  0, 30,  0,  0],\n",
       "       [ 0,  0,  0, 99,  0],\n",
       "       [ 0,  0,  0,  0, 60]])"
      ]
     },
     "execution_count": 69,
     "metadata": {},
     "output_type": "execute_result"
    }
   ],
   "source": [
    "np10[3,3] = 99 ## access and change specific element in array\n",
    "np10"
   ]
  },
  {
   "cell_type": "code",
   "execution_count": 70,
   "id": "6478c108",
   "metadata": {},
   "outputs": [
    {
     "data": {
      "text/plain": [
       "array([1, 2, 3, 4, 5, 6])"
      ]
     },
     "execution_count": 70,
     "metadata": {},
     "output_type": "execute_result"
    }
   ],
   "source": [
    "np3[0,:] # Print Specific Row"
   ]
  },
  {
   "cell_type": "code",
   "execution_count": 71,
   "id": "41750e2c",
   "metadata": {},
   "outputs": [
    {
     "data": {
      "text/plain": [
       "array([2, 8])"
      ]
     },
     "execution_count": 71,
     "metadata": {},
     "output_type": "execute_result"
    }
   ],
   "source": [
    "np3[:,1] # Print Specific Column"
   ]
  },
  {
   "cell_type": "code",
   "execution_count": 72,
   "id": "874e9726",
   "metadata": {},
   "outputs": [
    {
     "data": {
      "text/plain": [
       "array([[10, 10, 10, 10, 10],\n",
       "       [10, 10, 10, 10, 10],\n",
       "       [10, 10, 10, 10, 10],\n",
       "       [10, 10, 10, 10, 10],\n",
       "       [10, 10, 10, 10, 10]])"
      ]
     },
     "execution_count": 72,
     "metadata": {},
     "output_type": "execute_result"
    }
   ],
   "source": [
    "np.full_like(np10,10) # full all elements in np10 with 10 only "
   ]
  },
  {
   "cell_type": "code",
   "execution_count": 73,
   "id": "5701c825",
   "metadata": {},
   "outputs": [
    {
     "data": {
      "text/plain": [
       "array([ 0.50741901, -1.92064735, -0.01124758,  0.16366047,  0.14212694,\n",
       "       -0.91465657, -0.0525759 ,  1.65671206,  0.01877534, -1.42375364])"
      ]
     },
     "execution_count": 73,
     "metadata": {},
     "output_type": "execute_result"
    }
   ],
   "source": [
    "np.random.randn(10) # Generate vector of random numbers"
   ]
  },
  {
   "cell_type": "code",
   "execution_count": 74,
   "id": "16c6e6ea",
   "metadata": {},
   "outputs": [
    {
     "data": {
      "text/plain": [
       "array([[-0.40965803,  2.6904307 , -0.03537505, -0.69227521, -1.57009302],\n",
       "       [ 0.27910862, -0.2244695 ,  1.70226088, -0.8535106 , -0.32479792],\n",
       "       [ 0.46924723, -0.8240636 , -0.14113633, -0.8635666 ,  0.86679816],\n",
       "       [-1.32228899,  0.38423659, -0.89222837, -0.33307347, -0.628176  ],\n",
       "       [ 0.37371138, -1.68859986, -0.29594988, -1.13903339, -0.22180605]])"
      ]
     },
     "execution_count": 74,
     "metadata": {},
     "output_type": "execute_result"
    }
   ],
   "source": [
    "np.random.randn(5,5) # Generate matrix of random numbers of size 5 x 5"
   ]
  },
  {
   "cell_type": "code",
   "execution_count": 75,
   "id": "c80ae5c8",
   "metadata": {},
   "outputs": [
    {
     "data": {
      "text/plain": [
       "array([0.09931254, 0.17311146, 0.03822009, 0.52807812, 0.72057052,\n",
       "       0.91949354, 0.21851587, 0.20112744, 0.69771599, 0.63056257])"
      ]
     },
     "execution_count": 75,
     "metadata": {},
     "output_type": "execute_result"
    }
   ],
   "source": [
    "np.random.random_sample(np2.shape) # Generate matrix of random numbers from 0 to 1 of size of np2"
   ]
  },
  {
   "cell_type": "code",
   "execution_count": 76,
   "id": "1ddd9134",
   "metadata": {},
   "outputs": [
    {
     "data": {
      "text/plain": [
       "array([[8, 4, 0, 4, 3],\n",
       "       [4, 5, 1, 5, 7],\n",
       "       [2, 8, 8, 0, 1],\n",
       "       [2, 7, 5, 6, 1],\n",
       "       [2, 9, 3, 5, 6]])"
      ]
     },
     "execution_count": 76,
     "metadata": {},
     "output_type": "execute_result"
    }
   ],
   "source": [
    "np.random.randint(10,size = (5,5)) # Generate matrix of random numbers from 0 to 10 of size of 5 x 5\n",
    "# randint(maximum_number_to_reach , size = (row, column))"
   ]
  },
  {
   "cell_type": "code",
   "execution_count": 77,
   "id": "9b71c47d",
   "metadata": {},
   "outputs": [
    {
     "data": {
      "text/plain": [
       "array([1, 2, 3, 4])"
      ]
     },
     "execution_count": 77,
     "metadata": {},
     "output_type": "execute_result"
    }
   ],
   "source": [
    "arr = np.array([1,2,3,4])\n",
    "arr"
   ]
  },
  {
   "cell_type": "code",
   "execution_count": 78,
   "id": "75b0ef6e",
   "metadata": {},
   "outputs": [
    {
     "data": {
      "text/plain": [
       "array([1, 1, 2, 2, 3, 3, 4, 4])"
      ]
     },
     "execution_count": 78,
     "metadata": {},
     "output_type": "execute_result"
    }
   ],
   "source": [
    "np.repeat(arr,2) # repeat each element twice"
   ]
  },
  {
   "cell_type": "code",
   "execution_count": 79,
   "id": "4dd94804",
   "metadata": {},
   "outputs": [
    {
     "data": {
      "text/plain": [
       "array([ 0.84147098,  0.90929743,  0.14112001, -0.7568025 ])"
      ]
     },
     "execution_count": 79,
     "metadata": {},
     "output_type": "execute_result"
    }
   ],
   "source": [
    "np.sin(arr) # Return Sine of each element"
   ]
  },
  {
   "cell_type": "code",
   "execution_count": 80,
   "id": "e103743e",
   "metadata": {},
   "outputs": [
    {
     "data": {
      "text/plain": [
       "array([ 0.54030231, -0.41614684, -0.9899925 , -0.65364362])"
      ]
     },
     "execution_count": 80,
     "metadata": {},
     "output_type": "execute_result"
    }
   ],
   "source": [
    "np.cos(arr) # Return Cosine of each element"
   ]
  },
  {
   "cell_type": "code",
   "execution_count": 81,
   "id": "e526b3e8",
   "metadata": {},
   "outputs": [
    {
     "data": {
      "text/plain": [
       "array([ 1.55740772, -2.18503986, -0.14254654,  1.15782128])"
      ]
     },
     "execution_count": 81,
     "metadata": {},
     "output_type": "execute_result"
    }
   ],
   "source": [
    "np.tan(arr) # Return Tan of each element"
   ]
  },
  {
   "cell_type": "code",
   "execution_count": 82,
   "id": "9cdb8416",
   "metadata": {},
   "outputs": [
    {
     "data": {
      "text/plain": [
       "array([0.        , 0.69314718, 1.09861229, 1.38629436])"
      ]
     },
     "execution_count": 82,
     "metadata": {},
     "output_type": "execute_result"
    }
   ],
   "source": [
    "np.log(arr) # Return Log of each element"
   ]
  },
  {
   "cell_type": "code",
   "execution_count": 83,
   "id": "79bc5a0d",
   "metadata": {},
   "outputs": [
    {
     "data": {
      "text/plain": [
       "array([[0, 1],\n",
       "       [2, 3],\n",
       "       [4, 5],\n",
       "       [6, 7]])"
      ]
     },
     "execution_count": 83,
     "metadata": {},
     "output_type": "execute_result"
    }
   ],
   "source": [
    "np2 = np.arange(8)\n",
    "np2 = np2.reshape(4,2)\n",
    "np2"
   ]
  },
  {
   "cell_type": "code",
   "execution_count": 84,
   "id": "e54b2f73",
   "metadata": {},
   "outputs": [
    {
     "data": {
      "text/plain": [
       "array([[ 8,  9, 10, 11],\n",
       "       [12, 13, 14, 15]])"
      ]
     },
     "execution_count": 84,
     "metadata": {},
     "output_type": "execute_result"
    }
   ],
   "source": [
    "np1 = np.arange(8,16)\n",
    "np1 = np1.reshape(2,4)\n",
    "np1"
   ]
  },
  {
   "cell_type": "code",
   "execution_count": 85,
   "id": "733c8623",
   "metadata": {},
   "outputs": [
    {
     "data": {
      "text/plain": [
       "array([[124, 162],\n",
       "       [172, 226]])"
      ]
     },
     "execution_count": 85,
     "metadata": {},
     "output_type": "execute_result"
    }
   ],
   "source": [
    "np.matmul(np1,np2) # multiple between to matrix ( Cross Product )"
   ]
  },
  {
   "cell_type": "code",
   "execution_count": 86,
   "id": "f37e0a17",
   "metadata": {},
   "outputs": [
    {
     "data": {
      "text/plain": [
       "35640000.00000002"
      ]
     },
     "execution_count": 86,
     "metadata": {},
     "output_type": "execute_result"
    }
   ],
   "source": [
    "np.linalg.det(np10) # Find the determate of the matrix"
   ]
  },
  {
   "cell_type": "code",
   "execution_count": 87,
   "id": "8d0952ef",
   "metadata": {},
   "outputs": [
    {
     "data": {
      "text/plain": [
       "99"
      ]
     },
     "execution_count": 87,
     "metadata": {},
     "output_type": "execute_result"
    }
   ],
   "source": [
    "np.max(np10) # Return Maximum Number"
   ]
  },
  {
   "cell_type": "code",
   "execution_count": 88,
   "id": "5aecfb37",
   "metadata": {},
   "outputs": [
    {
     "data": {
      "text/plain": [
       "0"
      ]
     },
     "execution_count": 88,
     "metadata": {},
     "output_type": "execute_result"
    }
   ],
   "source": [
    "np.min(np10) # Return Minimum Number"
   ]
  },
  {
   "cell_type": "code",
   "execution_count": 89,
   "id": "6034e7b9",
   "metadata": {},
   "outputs": [
    {
     "data": {
      "text/plain": [
       "array([[0, 1],\n",
       "       [2, 3],\n",
       "       [4, 5],\n",
       "       [6, 7]])"
      ]
     },
     "execution_count": 89,
     "metadata": {},
     "output_type": "execute_result"
    }
   ],
   "source": [
    "np2"
   ]
  },
  {
   "cell_type": "code",
   "execution_count": 90,
   "id": "7878bad8",
   "metadata": {},
   "outputs": [
    {
     "data": {
      "text/plain": [
       "array([0, 2, 3, 6, 7])"
      ]
     },
     "execution_count": 90,
     "metadata": {},
     "output_type": "execute_result"
    }
   ],
   "source": [
    "np.delete(np2,[1,4,5]) ## Delete the exist in the index of the given"
   ]
  },
  {
   "cell_type": "code",
   "execution_count": 91,
   "id": "68bf45ea",
   "metadata": {},
   "outputs": [
    {
     "data": {
      "text/plain": [
       "array([ -9,   8,   7,   0,  25,   3,   6,  98, -11, -99,   3,  20,   3])"
      ]
     },
     "execution_count": 91,
     "metadata": {},
     "output_type": "execute_result"
    }
   ],
   "source": [
    "np9"
   ]
  },
  {
   "cell_type": "code",
   "execution_count": 92,
   "id": "ce69d6f3",
   "metadata": {},
   "outputs": [
    {
     "data": {
      "text/plain": [
       "array([ -9,   8,   7,   0,  25,   3,   6,  98, -11, -99,   3,  20,   3,\n",
       "       111,  10,  12,  69,  62,   0,   0,   0,   0,   0,   0,   0,   6])"
      ]
     },
     "execution_count": 92,
     "metadata": {},
     "output_type": "execute_result"
    }
   ],
   "source": [
    "np.append(np9,[111,10,12,69,62,0,0,0,0,0,0,0,6], axis = 0) ## Add a new element in the array in new Row"
   ]
  },
  {
   "cell_type": "code",
   "execution_count": 93,
   "id": "6159a515",
   "metadata": {},
   "outputs": [
    {
     "data": {
      "text/plain": [
       "array([[10,  0,  0,  0,  0],\n",
       "       [ 0, 20,  0,  0,  0],\n",
       "       [ 0,  0, 30,  0,  0],\n",
       "       [ 0,  0,  0, 99,  0],\n",
       "       [ 0,  0,  0,  0, 60]])"
      ]
     },
     "execution_count": 93,
     "metadata": {},
     "output_type": "execute_result"
    }
   ],
   "source": [
    "np10"
   ]
  },
  {
   "cell_type": "code",
   "execution_count": 94,
   "id": "faf9c635",
   "metadata": {},
   "outputs": [
    {
     "data": {
      "text/plain": [
       "array([[10,  0,  0,  0,  0, 10],\n",
       "       [ 0, 20,  0,  0,  0, 15],\n",
       "       [ 0,  0, 30,  0,  0,  0],\n",
       "       [ 0,  0,  0, 99,  0,  0],\n",
       "       [ 0,  0,  0,  0, 60,  0]])"
      ]
     },
     "execution_count": 94,
     "metadata": {},
     "output_type": "execute_result"
    }
   ],
   "source": [
    "np.append(np10, [[10], [15], [0] ,[0] ,[0]], axis = 1) ## Add a new element in the array in new Column"
   ]
  },
  {
   "cell_type": "code",
   "execution_count": 95,
   "id": "a8caa642",
   "metadata": {},
   "outputs": [
    {
     "data": {
      "text/plain": [
       "array([1, 2])"
      ]
     },
     "execution_count": 95,
     "metadata": {},
     "output_type": "execute_result"
    }
   ],
   "source": [
    "x = np.array([1,2])\n",
    "x"
   ]
  },
  {
   "cell_type": "code",
   "execution_count": 96,
   "id": "e757b9d9",
   "metadata": {},
   "outputs": [
    {
     "data": {
      "text/plain": [
       "array([[3, 4],\n",
       "       [5, 6]])"
      ]
     },
     "execution_count": 96,
     "metadata": {},
     "output_type": "execute_result"
    }
   ],
   "source": [
    "Y = np.array([[3,4],[5,6]])\n",
    "Y"
   ]
  },
  {
   "cell_type": "code",
   "execution_count": 97,
   "id": "a8594cea",
   "metadata": {},
   "outputs": [
    {
     "data": {
      "text/plain": [
       "array([[1, 2],\n",
       "       [3, 4],\n",
       "       [5, 6]])"
      ]
     },
     "execution_count": 97,
     "metadata": {},
     "output_type": "execute_result"
    }
   ],
   "source": [
    "z = np.vstack((x,Y)) # [[1,2], [3,4], [5,6]]\n",
    "z"
   ]
  },
  {
   "cell_type": "code",
   "execution_count": 98,
   "id": "d29bae36",
   "metadata": {},
   "outputs": [
    {
     "data": {
      "text/plain": [
       "array([[3, 4, 1],\n",
       "       [5, 6, 2]])"
      ]
     },
     "execution_count": 98,
     "metadata": {},
     "output_type": "execute_result"
    }
   ],
   "source": [
    "w = np.hstack((Y,x.reshape(2,1))) # [[3,4,1], [5,6,2]]\n",
    "w"
   ]
  },
  {
   "cell_type": "code",
   "execution_count": 99,
   "id": "b9818001",
   "metadata": {},
   "outputs": [
    {
     "data": {
      "text/plain": [
       "array([[0, 0, 0, 0, 0],\n",
       "       [1, 0, 0, 0, 0],\n",
       "       [0, 2, 0, 0, 0],\n",
       "       [0, 0, 3, 0, 0],\n",
       "       [0, 0, 0, 4, 0]])"
      ]
     },
     "execution_count": 99,
     "metadata": {},
     "output_type": "execute_result"
    }
   ],
   "source": [
    "np.diag([1,2,3,4], k = -1)"
   ]
  },
  {
   "cell_type": "code",
   "execution_count": 100,
   "id": "c4363734",
   "metadata": {},
   "outputs": [
    {
     "data": {
      "text/plain": [
       "array([[0, 1, 0, 0, 0],\n",
       "       [0, 0, 2, 0, 0],\n",
       "       [0, 0, 0, 3, 0],\n",
       "       [0, 0, 0, 0, 4],\n",
       "       [0, 0, 0, 0, 0]])"
      ]
     },
     "execution_count": 100,
     "metadata": {},
     "output_type": "execute_result"
    }
   ],
   "source": [
    "np.diag([1,2,3,4], k = 1)"
   ]
  },
  {
   "cell_type": "code",
   "execution_count": 101,
   "id": "ecea84a6",
   "metadata": {},
   "outputs": [
    {
     "data": {
      "text/plain": [
       "array([[10,  0,  0,  0,  0],\n",
       "       [ 0, 20,  0,  0,  0],\n",
       "       [ 0,  0, 30,  0,  0],\n",
       "       [ 0,  0,  0, 99,  0],\n",
       "       [ 0,  0,  0,  0, 60]])"
      ]
     },
     "execution_count": 101,
     "metadata": {},
     "output_type": "execute_result"
    }
   ],
   "source": [
    "np10"
   ]
  },
  {
   "cell_type": "code",
   "execution_count": 102,
   "id": "62df120a",
   "metadata": {},
   "outputs": [
    {
     "data": {
      "text/plain": [
       "array([[10,  0,  0,  0,  0],\n",
       "       [ 0, 20,  0,  0,  0],\n",
       "       [ 0,  0, 30,  0,  0],\n",
       "       [ 0,  0,  0, 50,  0],\n",
       "       [ 0,  0,  0,  0, 60]])"
      ]
     },
     "execution_count": 102,
     "metadata": {},
     "output_type": "execute_result"
    }
   ],
   "source": [
    "np10[np10 > 70] = 50\n",
    "np10"
   ]
  },
  {
   "cell_type": "code",
   "execution_count": 103,
   "id": "2aee3763",
   "metadata": {},
   "outputs": [],
   "source": [
    "x = np.array([1,2,3,4,5])\n",
    "y = np.array([6,7,2,8,4])"
   ]
  },
  {
   "cell_type": "markdown",
   "id": "6b8d35c6",
   "metadata": {},
   "source": [
    "## Math and Algebra"
   ]
  },
  {
   "cell_type": "code",
   "execution_count": 104,
   "id": "46d42fe8",
   "metadata": {},
   "outputs": [
    {
     "data": {
      "text/plain": [
       "array([1, 2, 3, 4, 5])"
      ]
     },
     "execution_count": 104,
     "metadata": {},
     "output_type": "execute_result"
    }
   ],
   "source": [
    "x"
   ]
  },
  {
   "cell_type": "code",
   "execution_count": 105,
   "id": "6dc6c24d",
   "metadata": {},
   "outputs": [
    {
     "data": {
      "text/plain": [
       "array([6, 7, 2, 8, 4])"
      ]
     },
     "execution_count": 105,
     "metadata": {},
     "output_type": "execute_result"
    }
   ],
   "source": [
    "y"
   ]
  },
  {
   "cell_type": "code",
   "execution_count": 106,
   "id": "5c2d3d9e",
   "metadata": {},
   "outputs": [
    {
     "data": {
      "text/plain": [
       "array([2, 4])"
      ]
     },
     "execution_count": 106,
     "metadata": {},
     "output_type": "execute_result"
    }
   ],
   "source": [
    "np.intersect1d(x,y) # Return the intersection between the 2 arrays \n"
   ]
  },
  {
   "cell_type": "code",
   "execution_count": 107,
   "id": "68b37208",
   "metadata": {},
   "outputs": [
    {
     "data": {
      "text/plain": [
       "array([1, 3, 5])"
      ]
     },
     "execution_count": 107,
     "metadata": {},
     "output_type": "execute_result"
    }
   ],
   "source": [
    "np.setdiff1d(x,y) # Return the elements exist in x and does not exist in y"
   ]
  },
  {
   "cell_type": "code",
   "execution_count": 108,
   "id": "ad88b797",
   "metadata": {},
   "outputs": [
    {
     "data": {
      "text/plain": [
       "array([6, 7, 8])"
      ]
     },
     "execution_count": 108,
     "metadata": {},
     "output_type": "execute_result"
    }
   ],
   "source": [
    "np.setdiff1d(y,x) # Return the elements exist in y and does not exist in x"
   ]
  },
  {
   "cell_type": "code",
   "execution_count": 109,
   "id": "fdb309d0",
   "metadata": {},
   "outputs": [
    {
     "data": {
      "text/plain": [
       "array([1, 2, 3, 4, 5, 6, 7, 8])"
      ]
     },
     "execution_count": 109,
     "metadata": {},
     "output_type": "execute_result"
    }
   ],
   "source": [
    "np.union1d(x,y) # Return the union of the 2 arrays"
   ]
  },
  {
   "cell_type": "code",
   "execution_count": 110,
   "id": "b56551a6",
   "metadata": {},
   "outputs": [
    {
     "data": {
      "text/plain": [
       "array([ -9,   8,   7,   0,  25,   3,   6,  98, -11, -99,   3,  20,   3])"
      ]
     },
     "execution_count": 110,
     "metadata": {},
     "output_type": "execute_result"
    }
   ],
   "source": [
    "np9"
   ]
  },
  {
   "cell_type": "code",
   "execution_count": 111,
   "id": "91c4d4ca",
   "metadata": {},
   "outputs": [
    {
     "data": {
      "text/plain": [
       "array([ 7,  9,  5, 12,  9])"
      ]
     },
     "execution_count": 111,
     "metadata": {},
     "output_type": "execute_result"
    }
   ],
   "source": [
    "np.add(x,y)"
   ]
  },
  {
   "cell_type": "code",
   "execution_count": 112,
   "id": "af933c86",
   "metadata": {},
   "outputs": [
    {
     "data": {
      "text/plain": [
       "array([ 5,  5, -1,  4, -1])"
      ]
     },
     "execution_count": 112,
     "metadata": {},
     "output_type": "execute_result"
    }
   ],
   "source": [
    "np.subtract(y,x)"
   ]
  },
  {
   "cell_type": "code",
   "execution_count": 113,
   "id": "dc0df5d9",
   "metadata": {},
   "outputs": [
    {
     "data": {
      "text/plain": [
       "array([ 6, 14,  6, 32, 20])"
      ]
     },
     "execution_count": 113,
     "metadata": {},
     "output_type": "execute_result"
    }
   ],
   "source": [
    "np.multiply(x,y)"
   ]
  },
  {
   "cell_type": "code",
   "execution_count": 114,
   "id": "2c174240",
   "metadata": {},
   "outputs": [
    {
     "data": {
      "text/plain": [
       "array([0.16666667, 0.28571429, 1.5       , 0.5       , 1.25      ])"
      ]
     },
     "execution_count": 114,
     "metadata": {},
     "output_type": "execute_result"
    }
   ],
   "source": [
    "np.divide(x,y)"
   ]
  },
  {
   "cell_type": "code",
   "execution_count": 115,
   "id": "d6fe50e3",
   "metadata": {},
   "outputs": [
    {
     "data": {
      "text/plain": [
       "array([2.44948974, 2.64575131, 1.41421356, 2.82842712, 2.        ])"
      ]
     },
     "execution_count": 115,
     "metadata": {},
     "output_type": "execute_result"
    }
   ],
   "source": [
    "np.sqrt(y)"
   ]
  },
  {
   "cell_type": "code",
   "execution_count": 116,
   "id": "3d9da661",
   "metadata": {},
   "outputs": [
    {
     "data": {
      "text/plain": [
       "array([  2.71828183,   7.3890561 ,  20.08553692,  54.59815003,\n",
       "       148.4131591 ])"
      ]
     },
     "execution_count": 116,
     "metadata": {},
     "output_type": "execute_result"
    }
   ],
   "source": [
    "np.exp(x)"
   ]
  },
  {
   "cell_type": "code",
   "execution_count": 117,
   "id": "5edef735",
   "metadata": {},
   "outputs": [
    {
     "data": {
      "text/plain": [
       "array([ 1,  4,  9, 16, 25], dtype=int32)"
      ]
     },
     "execution_count": 117,
     "metadata": {},
     "output_type": "execute_result"
    }
   ],
   "source": [
    "np.power(x,2)"
   ]
  },
  {
   "cell_type": "code",
   "execution_count": 118,
   "id": "7761bc84",
   "metadata": {},
   "outputs": [
    {
     "data": {
      "text/plain": [
       "array([ 4,  8, 12, 16, 20])"
      ]
     },
     "execution_count": 118,
     "metadata": {},
     "output_type": "execute_result"
    }
   ],
   "source": [
    "4*x"
   ]
  },
  {
   "cell_type": "code",
   "execution_count": 119,
   "id": "63a1836c",
   "metadata": {},
   "outputs": [
    {
     "data": {
      "text/plain": [
       "array([5, 6, 7, 8, 9])"
      ]
     },
     "execution_count": 119,
     "metadata": {},
     "output_type": "execute_result"
    }
   ],
   "source": [
    "4+x"
   ]
  },
  {
   "cell_type": "code",
   "execution_count": 120,
   "id": "3b6b4bfd",
   "metadata": {},
   "outputs": [
    {
     "data": {
      "text/plain": [
       "array([4.        , 2.        , 1.33333333, 1.        , 0.8       ])"
      ]
     },
     "execution_count": 120,
     "metadata": {},
     "output_type": "execute_result"
    }
   ],
   "source": [
    "4/x"
   ]
  },
  {
   "cell_type": "markdown",
   "id": "375896d9",
   "metadata": {},
   "source": [
    "## Statistical Functions"
   ]
  },
  {
   "cell_type": "code",
   "execution_count": 121,
   "id": "c073d76e",
   "metadata": {},
   "outputs": [
    {
     "data": {
      "text/plain": [
       "3.0"
      ]
     },
     "execution_count": 121,
     "metadata": {},
     "output_type": "execute_result"
    }
   ],
   "source": [
    "x.mean() # Average of all elements"
   ]
  },
  {
   "cell_type": "code",
   "execution_count": 122,
   "id": "b441aa8a",
   "metadata": {},
   "outputs": [
    {
     "data": {
      "text/plain": [
       "array([[0, 1],\n",
       "       [2, 3],\n",
       "       [4, 5],\n",
       "       [6, 7]])"
      ]
     },
     "execution_count": 122,
     "metadata": {},
     "output_type": "execute_result"
    }
   ],
   "source": [
    "np2"
   ]
  },
  {
   "cell_type": "code",
   "execution_count": 123,
   "id": "332bd73e",
   "metadata": {},
   "outputs": [
    {
     "data": {
      "text/plain": [
       "array([3., 4.])"
      ]
     },
     "execution_count": 123,
     "metadata": {},
     "output_type": "execute_result"
    }
   ],
   "source": [
    "np2.mean(axis = 0) # Average of all elements in the columns"
   ]
  },
  {
   "cell_type": "code",
   "execution_count": 124,
   "id": "f16f5f52",
   "metadata": {},
   "outputs": [
    {
     "data": {
      "text/plain": [
       "array([0.5, 2.5, 4.5, 6.5])"
      ]
     },
     "execution_count": 124,
     "metadata": {},
     "output_type": "execute_result"
    }
   ],
   "source": [
    "np2.mean(axis = 1) # Average of all elements in the Rows"
   ]
  },
  {
   "cell_type": "code",
   "execution_count": 125,
   "id": "43108e91",
   "metadata": {},
   "outputs": [
    {
     "data": {
      "text/plain": [
       "1.4142135623730951"
      ]
     },
     "execution_count": 125,
     "metadata": {},
     "output_type": "execute_result"
    }
   ],
   "source": [
    "x.std() # Return the standard deviation"
   ]
  },
  {
   "cell_type": "code",
   "execution_count": 126,
   "id": "d535f899",
   "metadata": {},
   "outputs": [
    {
     "data": {
      "text/plain": [
       "15"
      ]
     },
     "execution_count": 126,
     "metadata": {},
     "output_type": "execute_result"
    }
   ],
   "source": [
    "x.sum() # Return the sum od array"
   ]
  },
  {
   "cell_type": "code",
   "execution_count": 127,
   "id": "7cdaf61e",
   "metadata": {},
   "outputs": [
    {
     "data": {
      "text/plain": [
       "1"
      ]
     },
     "execution_count": 127,
     "metadata": {},
     "output_type": "execute_result"
    }
   ],
   "source": [
    "x.min() # Return the minimum of the array"
   ]
  },
  {
   "cell_type": "code",
   "execution_count": 128,
   "id": "ea1521bf",
   "metadata": {},
   "outputs": [
    {
     "data": {
      "text/plain": [
       "5"
      ]
     },
     "execution_count": 128,
     "metadata": {},
     "output_type": "execute_result"
    }
   ],
   "source": [
    "x.max() # Return the maximum of the array"
   ]
  },
  {
   "cell_type": "code",
   "execution_count": 129,
   "id": "0847ecaa",
   "metadata": {},
   "outputs": [
    {
     "data": {
      "text/plain": [
       "3.0"
      ]
     },
     "execution_count": 129,
     "metadata": {},
     "output_type": "execute_result"
    }
   ],
   "source": [
    "np.median(x) # Retruns Median of all elements"
   ]
  },
  {
   "cell_type": "markdown",
   "id": "e54eed7d",
   "metadata": {},
   "source": [
    "## Extra Funcionallity"
   ]
  },
  {
   "cell_type": "code",
   "execution_count": 130,
   "id": "275d2c83",
   "metadata": {},
   "outputs": [
    {
     "data": {
      "text/plain": [
       "array([0.01745329, 0.03490659, 0.05235988, 0.06981317, 0.08726646])"
      ]
     },
     "execution_count": 130,
     "metadata": {},
     "output_type": "execute_result"
    }
   ],
   "source": [
    "np.deg2rad(x) # Turn the degree to be rad ( 30 --> pi/6 )"
   ]
  },
  {
   "cell_type": "code",
   "execution_count": 140,
   "id": "6bbe5f97",
   "metadata": {},
   "outputs": [
    {
     "data": {
      "text/plain": [
       "array([[0., 0., 0.],\n",
       "       [0., 0., 0.],\n",
       "       [0., 0., 0.],\n",
       "       [0., 0., 0.],\n",
       "       [0., 0., 0.]])"
      ]
     },
     "execution_count": 140,
     "metadata": {},
     "output_type": "execute_result"
    }
   ],
   "source": [
    "np.empty((5,3)) ## Matrix of zeros"
   ]
  },
  {
   "cell_type": "code",
   "execution_count": 151,
   "id": "4b77ee9b",
   "metadata": {},
   "outputs": [
    {
     "data": {
      "text/plain": [
       "array([[ 9.5979619 , 11.7543713 ,  9.14371765],\n",
       "       [10.36672974,  7.88988679,  7.43090766],\n",
       "       [12.02138059, 12.8590151 , 12.84255371]])"
      ]
     },
     "execution_count": 151,
     "metadata": {},
     "output_type": "execute_result"
    }
   ],
   "source": [
    "np12 =np.random.uniform(low = 4, high = 15, size = (3,3)) # Uniformally Distributed Random Numbers\n",
    "np12"
   ]
  },
  {
   "cell_type": "code",
   "execution_count": null,
   "id": "d24e3c32",
   "metadata": {},
   "outputs": [],
   "source": []
  },
  {
   "cell_type": "code",
   "execution_count": null,
   "id": "861197ef",
   "metadata": {},
   "outputs": [],
   "source": []
  }
 ],
 "metadata": {
  "kernelspec": {
   "display_name": "Python 3 (ipykernel)",
   "language": "python",
   "name": "python3"
  },
  "language_info": {
   "codemirror_mode": {
    "name": "ipython",
    "version": 3
   },
   "file_extension": ".py",
   "mimetype": "text/x-python",
   "name": "python",
   "nbconvert_exporter": "python",
   "pygments_lexer": "ipython3",
   "version": "3.9.7"
  }
 },
 "nbformat": 4,
 "nbformat_minor": 5
}
